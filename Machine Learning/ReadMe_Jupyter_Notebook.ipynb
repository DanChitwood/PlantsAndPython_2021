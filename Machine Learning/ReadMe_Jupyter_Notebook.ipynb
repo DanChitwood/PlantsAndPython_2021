{
 "cells": [
  {
   "cell_type": "markdown",
   "id": "7416302a",
   "metadata": {},
   "source": [
    "This folder is for the HRT 841 machine learning group's files. \n",
    "The files consist of the dataset we used and our preliminary and final code to create \n",
    "each machine learning model we chose to attempt.\n",
    "\n",
    "Group Members in alphabetical order by last name: \n",
    "Jorge Blancas\n",
    "Brianna Brown\n",
    "Sophie Buysse \n",
    "Noelle Connors\n",
    "Alex Hernandez\n",
    "Paulo Izquierdo\n",
    "Danny Madrigal\n",
    "Juan Moreno\n",
    "Harry Shomer\n",
    "Madison Whyte\n",
    "\n",
    "Our data:\n",
    "We used a subset of data that includes 100 genes and is filtered down to only 24 tissue types. \n",
    "We chose to use this subset to reduce the number of tissue types and hopefully reduce overfitting. \n",
    "The file can be found on github in the Machine Learning folder and is called result_table_100_24_tissues.csv\n",
    "\n",
    "Machine Learning Model Approaches and Accuracy score on the dataset:\n",
    "SVM (Noelle Connors) - 0.81\n",
    "KNN (Paulo Izquierdo) - 0.90\n",
    "Gaussian Naive Bayes (Sophie Buysse) - 0.27\n",
    "Gradient Boosting (Madison Whyte) - 0.88\n",
    "Logistic Regression (Alex Hernandez and Harry Shomer)- 0.78\n",
    "Random Forest (Brianna Brown) - 0.87\n",
    "Artificial Neural Net (Juan Moreno) - 0.71\n",
    "\n",
    "Other helpful info:\n",
    "Document initially used to assemble information about the different models: \n",
    "https://docs.google.com/spreadsheets/d/1Q48Ll6Ln0GyXHs45TD8doObX9K2c6xsgrj1vKKN1dKk/edit#gid=0\n",
    "\n",
    "Presentation for last day of class: \n",
    "https://docs.google.com/presentation/d/1aFPGHNHpvdZrMoQN_RsVEEv_obJMZmhMfq7Zg2QQJHg/edit#slide=id.g10308e5b896_0_15"
   ]
  },
  {
   "cell_type": "code",
   "execution_count": null,
   "id": "24078003",
   "metadata": {},
   "outputs": [],
   "source": []
  }
 ],
 "metadata": {
  "kernelspec": {
   "display_name": "Python 3 (ipykernel)",
   "language": "python",
   "name": "python3"
  },
  "language_info": {
   "codemirror_mode": {
    "name": "ipython",
    "version": 3
   },
   "file_extension": ".py",
   "mimetype": "text/x-python",
   "name": "python",
   "nbconvert_exporter": "python",
   "pygments_lexer": "ipython3",
   "version": "3.9.5"
  }
 },
 "nbformat": 4,
 "nbformat_minor": 5
}

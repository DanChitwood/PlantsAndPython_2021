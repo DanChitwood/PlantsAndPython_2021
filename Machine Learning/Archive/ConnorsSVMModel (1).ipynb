{
 "cells": [
  {
   "cell_type": "code",
   "execution_count": 51,
   "id": "214739de",
   "metadata": {},
   "outputs": [],
   "source": [
    "#SVM Classfier. Based on Source on Excel Spreadsheet\n",
    "import numpy as np\n",
    "import pandas as pd\n",
    "import matplotlib.pyplot as plt\n",
    "from sklearn.model_selection import train_test_split\n",
    "from sklearn.svm import SVC\n",
    "from sklearn.metrics import classification_report, confusion_matrix\n",
    "%matplotlib inline\n"
   ]
  },
  {
   "cell_type": "code",
   "execution_count": 53,
   "id": "25ec35c8",
   "metadata": {},
   "outputs": [
    {
     "data": {
      "text/html": [
       "<div>\n",
       "<style scoped>\n",
       "    .dataframe tbody tr th:only-of-type {\n",
       "        vertical-align: middle;\n",
       "    }\n",
       "\n",
       "    .dataframe tbody tr th {\n",
       "        vertical-align: top;\n",
       "    }\n",
       "\n",
       "    .dataframe thead th {\n",
       "        text-align: right;\n",
       "    }\n",
       "</style>\n",
       "<table border=\"1\" class=\"dataframe\">\n",
       "  <thead>\n",
       "    <tr style=\"text-align: right;\">\n",
       "      <th></th>\n",
       "      <th>Unnamed: 0</th>\n",
       "      <th>Sample</th>\n",
       "      <th>SampleName</th>\n",
       "      <th>AT1G22630</th>\n",
       "      <th>AT1G22620</th>\n",
       "      <th>AT1G22610</th>\n",
       "      <th>Tissue</th>\n",
       "      <th>Ecotype</th>\n",
       "      <th>Genotype</th>\n",
       "      <th>Treatment</th>\n",
       "      <th>Project</th>\n",
       "      <th>TotalReads</th>\n",
       "      <th>UniqueMappedRatio</th>\n",
       "      <th>ReleaseDate</th>\n",
       "    </tr>\n",
       "  </thead>\n",
       "  <tbody>\n",
       "    <tr>\n",
       "      <th>0</th>\n",
       "      <td>17117</td>\n",
       "      <td>GSM3178804</td>\n",
       "      <td>urt1 rep1 dataset #2</td>\n",
       "      <td>0.00</td>\n",
       "      <td>0.00</td>\n",
       "      <td>0.0</td>\n",
       "      <td>seedlings</td>\n",
       "      <td>--</td>\n",
       "      <td>urt1</td>\n",
       "      <td>--</td>\n",
       "      <td>PRJNA475117</td>\n",
       "      <td>1039688</td>\n",
       "      <td>0.2002</td>\n",
       "      <td>2018-10-08</td>\n",
       "    </tr>\n",
       "    <tr>\n",
       "      <th>1</th>\n",
       "      <td>2820</td>\n",
       "      <td>GSM1507902</td>\n",
       "      <td>Te ctrl rep3</td>\n",
       "      <td>61.64</td>\n",
       "      <td>29.59</td>\n",
       "      <td>0.0</td>\n",
       "      <td>rosette leaf</td>\n",
       "      <td>Te</td>\n",
       "      <td>Te</td>\n",
       "      <td>control</td>\n",
       "      <td>PRJNA261430</td>\n",
       "      <td>24510726</td>\n",
       "      <td>0.8412</td>\n",
       "      <td>2014-09-22</td>\n",
       "    </tr>\n",
       "    <tr>\n",
       "      <th>2</th>\n",
       "      <td>16447</td>\n",
       "      <td>GSM2915887</td>\n",
       "      <td>BA_2</td>\n",
       "      <td>19.16</td>\n",
       "      <td>36.65</td>\n",
       "      <td>0.0</td>\n",
       "      <td>seedlings</td>\n",
       "      <td>Col-0</td>\n",
       "      <td>--</td>\n",
       "      <td>BA</td>\n",
       "      <td>PRJNA429126</td>\n",
       "      <td>21775880</td>\n",
       "      <td>0.9044</td>\n",
       "      <td>2018-10-01</td>\n",
       "    </tr>\n",
       "    <tr>\n",
       "      <th>3</th>\n",
       "      <td>12342</td>\n",
       "      <td>SRX2899193</td>\n",
       "      <td>Col0_margin_rep2</td>\n",
       "      <td>95.46</td>\n",
       "      <td>23.76</td>\n",
       "      <td>0.0</td>\n",
       "      <td>leaves</td>\n",
       "      <td>Col-0</td>\n",
       "      <td>Col-0</td>\n",
       "      <td>--</td>\n",
       "      <td>PRJNA389787</td>\n",
       "      <td>10077394</td>\n",
       "      <td>0.7901</td>\n",
       "      <td>2017-12-06</td>\n",
       "    </tr>\n",
       "    <tr>\n",
       "      <th>4</th>\n",
       "      <td>159</td>\n",
       "      <td>DRX099518</td>\n",
       "      <td>DRS050614</td>\n",
       "      <td>0.00</td>\n",
       "      <td>15.69</td>\n",
       "      <td>0.0</td>\n",
       "      <td>root</td>\n",
       "      <td>Col-0</td>\n",
       "      <td>wild type</td>\n",
       "      <td>Mock</td>\n",
       "      <td>PRJDB6370</td>\n",
       "      <td>3990947</td>\n",
       "      <td>0.9492</td>\n",
       "      <td>2017-09-28</td>\n",
       "    </tr>\n",
       "  </tbody>\n",
       "</table>\n",
       "</div>"
      ],
      "text/plain": [
       "   Unnamed: 0      Sample            SampleName  AT1G22630  AT1G22620  \\\n",
       "0       17117  GSM3178804  urt1 rep1 dataset #2       0.00       0.00   \n",
       "1        2820  GSM1507902          Te ctrl rep3      61.64      29.59   \n",
       "2       16447  GSM2915887                  BA_2      19.16      36.65   \n",
       "3       12342  SRX2899193      Col0_margin_rep2      95.46      23.76   \n",
       "4         159   DRX099518             DRS050614       0.00      15.69   \n",
       "\n",
       "   AT1G22610        Tissue Ecotype   Genotype Treatment      Project  \\\n",
       "0        0.0     seedlings      --       urt1        --  PRJNA475117   \n",
       "1        0.0  rosette leaf      Te         Te   control  PRJNA261430   \n",
       "2        0.0     seedlings   Col-0         --        BA  PRJNA429126   \n",
       "3        0.0        leaves   Col-0      Col-0        --  PRJNA389787   \n",
       "4        0.0          root   Col-0  wild type      Mock    PRJDB6370   \n",
       "\n",
       "   TotalReads  UniqueMappedRatio ReleaseDate  \n",
       "0     1039688             0.2002  2018-10-08  \n",
       "1    24510726             0.8412  2014-09-22  \n",
       "2    21775880             0.9044  2018-10-01  \n",
       "3    10077394             0.7901  2017-12-06  \n",
       "4     3990947             0.9492  2017-09-28  "
      ]
     },
     "execution_count": 53,
     "metadata": {},
     "output_type": "execute_result"
    }
   ],
   "source": [
    "dataset = pd.read_excel('subset_tissue.xlsx')  \n",
    "dataset.head()"
   ]
  },
  {
   "cell_type": "code",
   "execution_count": 39,
   "id": "b1210908",
   "metadata": {},
   "outputs": [
    {
     "name": "stdout",
     "output_type": "stream",
     "text": [
      "0          seedlings\n",
      "1       rosette leaf\n",
      "2          seedlings\n",
      "3             leaves\n",
      "4               root\n",
      "            ...     \n",
      "2959          leaves\n",
      "2960          leaves\n",
      "2961            root\n",
      "2962       seedlings\n",
      "2963       seedlings\n",
      "Name: Tissue, Length: 2964, dtype: object\n",
      "      AT1G22630  AT1G22620  AT1G22610\n",
      "0          0.00       0.00       0.00\n",
      "1         61.64      29.59       0.00\n",
      "2         19.16      36.65       0.00\n",
      "3         95.46      23.76       0.00\n",
      "4          0.00      15.69       0.00\n",
      "...         ...        ...        ...\n",
      "2959       0.00      11.01       0.00\n",
      "2960       0.00       6.87      13.86\n",
      "2961       4.91      24.62       0.00\n",
      "2962      68.56      20.64       0.00\n",
      "2963      44.43      25.63       0.00\n",
      "\n",
      "[2964 rows x 3 columns]\n"
     ]
    }
   ],
   "source": [
    "X = dataset[[\"AT1G22630\",\"AT1G22620\",\"AT1G22610\"]]\n",
    "y = dataset[\"Tissue\"]\n",
    "print(y)\n",
    "print(X)"
   ]
  },
  {
   "cell_type": "code",
   "execution_count": 40,
   "id": "3d8d1e8f",
   "metadata": {},
   "outputs": [],
   "source": [
    "#Split the data into training and testing\n",
    "X_train, X_test, y_train, y_test = train_test_split(X,y,test_size=0.2)"
   ]
  },
  {
   "cell_type": "code",
   "execution_count": 41,
   "id": "d5b06e22",
   "metadata": {},
   "outputs": [
    {
     "data": {
      "text/plain": [
       "pandas.core.series.Series"
      ]
     },
     "execution_count": 41,
     "metadata": {},
     "output_type": "execute_result"
    }
   ],
   "source": [
    "type(X)\n",
    "type(y)"
   ]
  },
  {
   "cell_type": "code",
   "execution_count": 42,
   "id": "c062086f",
   "metadata": {},
   "outputs": [
    {
     "data": {
      "text/plain": [
       "SVC(kernel='linear')"
      ]
     },
     "execution_count": 42,
     "metadata": {},
     "output_type": "execute_result"
    }
   ],
   "source": [
    "#train the SVM model\n",
    "svcclassifier=SVC(kernel='linear')\n",
    "svcclassifier.fit(X_train,y_train.values.ravel())"
   ]
  },
  {
   "cell_type": "code",
   "execution_count": 45,
   "id": "93c61de3",
   "metadata": {},
   "outputs": [],
   "source": [
    "#Predict y values\n",
    "y_pred=svcclassifier.predict(X_test)"
   ]
  },
  {
   "cell_type": "code",
   "execution_count": 52,
   "id": "1863c5ec",
   "metadata": {},
   "outputs": [
    {
     "ename": "NameError",
     "evalue": "name 'confusion_maxtrix' is not defined",
     "output_type": "error",
     "traceback": [
      "\u001b[1;31m---------------------------------------------------------------------------\u001b[0m",
      "\u001b[1;31mNameError\u001b[0m                                 Traceback (most recent call last)",
      "\u001b[1;32m<ipython-input-52-2f6fe61abd1d>\u001b[0m in \u001b[0;36m<module>\u001b[1;34m\u001b[0m\n\u001b[0;32m      1\u001b[0m \u001b[1;31m#Evaluate the model\u001b[0m\u001b[1;33m\u001b[0m\u001b[1;33m\u001b[0m\u001b[1;33m\u001b[0m\u001b[0m\n\u001b[1;32m----> 2\u001b[1;33m \u001b[0mprint\u001b[0m\u001b[1;33m(\u001b[0m\u001b[0mconfusion_maxtrix\u001b[0m\u001b[1;33m(\u001b[0m\u001b[0my_test\u001b[0m\u001b[1;33m,\u001b[0m\u001b[0my_pred\u001b[0m\u001b[1;33m)\u001b[0m\u001b[1;33m)\u001b[0m\u001b[1;33m\u001b[0m\u001b[1;33m\u001b[0m\u001b[0m\n\u001b[0m",
      "\u001b[1;31mNameError\u001b[0m: name 'confusion_maxtrix' is not defined"
     ]
    }
   ],
   "source": [
    "#Evaluate the model\n",
    "print(confusion_maxtrix(y_test,y_pred))"
   ]
  },
  {
   "cell_type": "code",
   "execution_count": 49,
   "id": "39a5ab67",
   "metadata": {},
   "outputs": [
    {
     "name": "stdout",
     "output_type": "stream",
     "text": [
      "              precision    recall  f1-score   support\n",
      "\n",
      "      leaves       0.42      0.88      0.57       229\n",
      "        root       0.68      0.97      0.80        77\n",
      "rosette leaf       0.00      0.00      0.00        58\n",
      "   seedlings       0.00      0.00      0.00       203\n",
      " whole plant       0.00      0.00      0.00        26\n",
      "\n",
      "    accuracy                           0.47       593\n",
      "   macro avg       0.22      0.37      0.27       593\n",
      "weighted avg       0.25      0.47      0.32       593\n",
      "\n"
     ]
    },
    {
     "name": "stderr",
     "output_type": "stream",
     "text": [
      "C:\\Users\\noell\\anaconda3\\lib\\site-packages\\sklearn\\metrics\\_classification.py:1245: UndefinedMetricWarning: Precision and F-score are ill-defined and being set to 0.0 in labels with no predicted samples. Use `zero_division` parameter to control this behavior.\n",
      "  _warn_prf(average, modifier, msg_start, len(result))\n",
      "C:\\Users\\noell\\anaconda3\\lib\\site-packages\\sklearn\\metrics\\_classification.py:1245: UndefinedMetricWarning: Precision and F-score are ill-defined and being set to 0.0 in labels with no predicted samples. Use `zero_division` parameter to control this behavior.\n",
      "  _warn_prf(average, modifier, msg_start, len(result))\n",
      "C:\\Users\\noell\\anaconda3\\lib\\site-packages\\sklearn\\metrics\\_classification.py:1245: UndefinedMetricWarning: Precision and F-score are ill-defined and being set to 0.0 in labels with no predicted samples. Use `zero_division` parameter to control this behavior.\n",
      "  _warn_prf(average, modifier, msg_start, len(result))\n"
     ]
    }
   ],
   "source": [
    "print(classification_report(y_test,y_pred))"
   ]
  },
  {
   "cell_type": "code",
   "execution_count": null,
   "id": "0b08c4ed",
   "metadata": {},
   "outputs": [],
   "source": []
  }
 ],
 "metadata": {
  "kernelspec": {
   "display_name": "Python 3",
   "language": "python",
   "name": "python3"
  }
 },
 "nbformat": 4,
 "nbformat_minor": 5
}

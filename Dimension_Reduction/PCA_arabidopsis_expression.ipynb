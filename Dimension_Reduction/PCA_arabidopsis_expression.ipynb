{
 "cells": [
  {
   "cell_type": "code",
   "execution_count": null,
   "metadata": {},
   "outputs": [],
   "source": [
    "#PCA for arabidopsis expression data"
   ]
  },
  {
   "cell_type": "code",
   "execution_count": null,
   "metadata": {},
   "outputs": [],
   "source": [
    "#Loading requiered packages\n",
    "import numpy as np\n",
    "import pandas as pd"
   ]
  },
  {
   "cell_type": "code",
   "execution_count": null,
   "metadata": {},
   "outputs": [],
   "source": [
    "#Reading the file with the expression data and assigning it to a variable called counts\n",
    "counts = pd.read_csv('/mnt/home/f0103229/Test_project/num_filt_data_cat.csv')"
   ]
  },
  {
   "cell_type": "code",
   "execution_count": null,
   "metadata": {},
   "outputs": [],
   "source": [
    "#Tansposing the data\n",
    "counts_t = counts.transpose()"
   ]
  },
  {
   "cell_type": "code",
   "execution_count": null,
   "metadata": {},
   "outputs": [],
   "source": [
    "#Adding 1 to all of the values to eliminate 0s\n",
    "for c  in counts_t.columns: \n",
    "    counts_t[c] += 1"
   ]
  },
  {
   "cell_type": "code",
   "execution_count": null,
   "metadata": {},
   "outputs": [],
   "source": [
    "#Getting the log for each value\n",
    "for c  in counts_t.columns: \n",
    "    counts_t[c] = np.log(counts_t[c])"
   ]
  },
  {
   "cell_type": "code",
   "execution_count": null,
   "metadata": {},
   "outputs": [],
   "source": [
    "#Transpodig the data again\n",
    "counts_t2 = counts_t.transpose()"
   ]
  },
  {
   "cell_type": "code",
   "execution_count": null,
   "metadata": {},
   "outputs": [],
   "source": [
    "#Importing the package for the PCA\n",
    "from sklearn.decomposition import PCA"
   ]
  },
  {
   "cell_type": "code",
   "execution_count": null,
   "metadata": {},
   "outputs": [],
   "source": [
    "#Establishing the number of principal components \n",
    "pca = PCA(n_components=2)"
   ]
  },
  {
   "cell_type": "code",
   "execution_count": null,
   "metadata": {},
   "outputs": [],
   "source": [
    "#Obtaining the principal components for each sample\n",
    "real_PCs = pca.fit_transform(counts_t2)\n",
    "real_PCs_df = pd.DataFrame(data = real_PCs, columns = ['PC1', 'PC2'])"
   ]
  },
  {
   "cell_type": "code",
   "execution_count": null,
   "metadata": {},
   "outputs": [],
   "source": [
    "#Printing the explained variance by the principal components\n",
    "variance = pca.explained_variance_ratio_\n",
    "print(variance)"
   ]
  },
  {
   "cell_type": "code",
   "execution_count": null,
   "metadata": {},
   "outputs": [],
   "source": [
    "#Reading the metadata \n",
    "sample_annot = pd.read_csv('/mnt/home/f0103229/Test_project/meta_filt_data_cat.csv')\n",
    "#Adding the metadata to the dataframe of principal components\n",
    "final_real_df = pd.concat([sample_annot, real_PCs_df], axis =1)"
   ]
  },
  {
   "cell_type": "code",
   "execution_count": null,
   "metadata": {},
   "outputs": [],
   "source": [
    "#Loading packages to plot the PCA\n",
    "import seaborn as sns\n",
    "import matplotlib.pyplot as plt"
   ]
  },
  {
   "cell_type": "code",
   "execution_count": null,
   "metadata": {},
   "outputs": [],
   "source": [
    "#Plotting the PCA, colors by Tissue type\n",
    "plt.figure(figsize=(15,15))\n",
    "sns.scatterplot(x='PC1', y='PC2', data=final_real_df, hue='Tissue', legend=\"full\")\n",
    "plt.legend(loc='center left', bbox_to_anchor=(0.8, 0.5))\n",
    "plt.savefig('PCA_TISSUE_all.png')"
   ]
  },
  {
   "cell_type": "code",
   "execution_count": null,
   "metadata": {},
   "outputs": [],
   "source": [
    "#Plotting the PCA, colors by Above or Below ground classification\n",
    "plt.figure(figsize=(15,15))\n",
    "sns.scatterplot(x='PC1', y='PC2', data=final_real_df, hue='AboveBelow', legend=\"full\")\n",
    "plt.legend(loc='center left', bbox_to_anchor=(0.8, 0.5))\n",
    "plt.savefig('PCA_abovebelow_all.png')"
   ]
  },
  {
   "cell_type": "code",
   "execution_count": null,
   "metadata": {},
   "outputs": [],
   "source": [
    "#Plotting the PCA, colors by classification: Vegetative, Reproductive, Root, Hypotocyl \n",
    "plt.figure(figsize=(15,15))\n",
    "sns.scatterplot(x='PC1', y='PC2', data=final_real_df, hue='VegetativeRepro', legend=\"full\")\n",
    "plt.legend(loc='center left', bbox_to_anchor=(0.8, 0.5))\n",
    "plt.savefig('Vegetative_Reproductive_PCA.png')"
   ]
  }
 ],
 "metadata": {
  "kernelspec": {
   "display_name": "Python 3",
   "language": "python",
   "name": "python3"
  },
  "language_info": {
   "codemirror_mode": {
    "name": "ipython",
    "version": 3
   },
   "file_extension": ".py",
   "mimetype": "text/x-python",
   "name": "python",
   "nbconvert_exporter": "python",
   "pygments_lexer": "ipython3",
   "version": "3.7.6"
  }
 },
 "nbformat": 4,
 "nbformat_minor": 4
}

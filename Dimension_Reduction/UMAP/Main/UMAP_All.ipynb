{
 "cells": [
  {
   "cell_type": "code",
   "execution_count": null,
   "id": "1b8c05d5",
   "metadata": {},
   "outputs": [],
   "source": [
    "#Install packages if not already installed\n",
    "\n",
    "#pip install umap-learn\n",
    "#pip install plotly\n",
    "#pip install kaleido #(needed for plotly)"
   ]
  },
  {
   "cell_type": "code",
   "execution_count": 1,
   "id": "e6867408",
   "metadata": {},
   "outputs": [],
   "source": [
    "#Import packages\n",
    "import numpy as np\n",
    "import pandas as pd\n",
    "import umap #for doing UMAP\n",
    "import plotly.express as px #for plotting"
   ]
  },
  {
   "cell_type": "code",
   "execution_count": null,
   "id": "78adacde",
   "metadata": {},
   "outputs": [],
   "source": [
    "dataraw = pd.read_csv(\"tissue_type_df_v2_noblank.csv\") #read in data - first need to copy the file into same directory as python script or specify path"
   ]
  },
  {
   "cell_type": "code",
   "execution_count": null,
   "id": "36921848",
   "metadata": {},
   "outputs": [],
   "source": [
    "#Create new dataframe with the quantitative data only by inclulding only columns starting with 'AT' (gene IDs)\n",
    "datafilter= [col for col in dataraw if col.startswith('AT')]\n",
    "dataquant = dataraw[datafilter]\n",
    "#dataquant.head()"
   ]
  },
  {
   "cell_type": "code",
   "execution_count": null,
   "id": "10b8b8d3",
   "metadata": {},
   "outputs": [],
   "source": [
    "#Correct spelling mistake in data\n",
    "catfilter= [col for col in dataraw if not col.startswith('AT')]\n",
    "datacat= dataraw[catfilter]\n",
    "datacat.loc[(datacat.VegetativeRepro == \"Hypotocyl\"),\"VegetativeRepro\"]=\"Hypocotyl\"\n",
    "datacat.loc[(datacat.Tissue_type == \"Hypotocyl\"),\"Tissue_type\"]=\"Hypocotyl\""
   ]
  },
  {
   "cell_type": "code",
   "execution_count": null,
   "id": "8519859c",
   "metadata": {},
   "outputs": [],
   "source": [
    "#Establish the UMAP model, specifying n_neighbors, min_dist, and n_components (2 for 2D, 3 for 3D). Additional parameters could be added here, but these three are most important.\n",
    "UMAP_2d = umap.UMAP(n_neighbors=10,min_dist=.1,n_components=2)\n",
    "UMAP_3d = umap.UMAP(n_neighbors=10,min_dist=.1,n_components=3)\n",
    "\n",
    "#Project the specified UMAP onto the data\n",
    "proj_2d = UMAP_2d.fit_transform(dataquant)\n",
    "proj_3d = UMAP_3d.fit_transform(dataquant)\n",
    "print(proj_2d.shape) #verify that result contains all rows and either 2 columns for 2D or 3 columns for 3D\n",
    "print(proj_3d.shape)"
   ]
  },
  {
   "cell_type": "code",
   "execution_count": null,
   "id": "54be7557",
   "metadata": {},
   "outputs": [],
   "source": [
    "#Visualize the UMAP using plotly, which makes it easy to create interactive figures. Many additional plotting parameters could be specified here (see https://plotly.com/python/line-and-scatter/)\n",
    "#Note: points are colored first by abovegorund/belowground, then tissue type, then vegetative/rerproductive. This could be changed if more categories (e.g. treatment) are added in future.\n",
    "fig_2d = px.scatter(\n",
    "    proj_2d, x=0, y=1,\n",
    "    color=dataraw.AboveBelow, labels={'color': 'tissue location'},\n",
    "    color_discrete_sequence=[\"gray\",\"red\",\"black\",\"purple\",\"green\"]\n",
    ")\n",
    "fig_3d = px.scatter_3d(\n",
    "    proj_3d, x=0, y=1, z=2,\n",
    "    color=dataraw.AboveBelow, labels={'color': 'tissue location'},\n",
    "    color_discrete_sequence=[\"gray\",\"red\",\"black\",\"purple\",\"green\"]\n",
    ")\n",
    "fig_3d.update_traces(marker_size=3) #makes size of points in 3D graphs similar size to those in 2D\n",
    "\n",
    "#fig_2d.show()\n",
    "#fig_3d.show()\n",
    "\n",
    "fig_2d.write_image(\"UMAP2D_AboveBelow_10_.1_v2.png\") #saves static 2D\n",
    "fig_3d.write_image(\"UMAP3D_AboveBelow_10_.1_v2.png\") #saves static 3D\n",
    "fig_3d.write_html(\"UMAP_AboveBelow_10_.1_v2.html\") #saves interactive 3D\n"
   ]
  },
  {
   "cell_type": "code",
   "execution_count": 18,
   "id": "d350a531",
   "metadata": {},
   "outputs": [],
   "source": [
    "#create custom color sequence (starting with gray to match with Other_NA category)\n",
    "pxseq=px.colors.qualitative.Alphabet[0:22]\n",
    "colseq=[\"gray\"]\n",
    "colseq[1:]=pxseq\n",
    "\n",
    "\n",
    "fig_2d = px.scatter(\n",
    "    proj_2d, x=0, y=1,\n",
    "    color=datacat.Tissue_type, labels={'color': 'tissue type'},\n",
    "    color_discrete_sequence=colseq\n",
    "    \n",
    ")\n",
    "fig_3d = px.scatter_3d(\n",
    "    proj_3d, x=0, y=1, z=2,\n",
    "    color=datacat.Tissue_type, labels={'color': 'tissue type'},\n",
    "    color_discrete_sequence=colseq\n",
    ")\n",
    "fig_3d.update_traces(marker_size=3)\n",
    "\n",
    "#fig_2d.show()\n",
    "#fig_3d.show()\n",
    "\n",
    "fig_2d.write_image(\"UMAP2D_TissueType_10_.1_v2.png\")\n",
    "fig_3d.write_image(\"UMAP3D_TissueType_10_.1_v2.png\")\n",
    "fig_3d.write_html(\"UMAP_TissueType_10_.1_v2.html\")"
   ]
  },
  {
   "cell_type": "code",
   "execution_count": null,
   "id": "876de21d",
   "metadata": {},
   "outputs": [],
   "source": [
    "fig_2d = px.scatter(proj_2d, x=0, y=1,color=datacat.VegetativeRepro, labels={'color': 'tissue type'},\n",
    "    color_discrete_sequence=[\"gray\",\"red\",\"black\",\"purple\",\"green\",\"blue\"])\n",
    "fig_3d = px.scatter_3d(proj_3d, x=0, y=1, z=2,color=datacat.VegetativeRepro, labels={'color': 'tissue type'},\n",
    "    color_discrete_sequence=[\"gray\",\"red\",\"black\",\"purple\",\"green\",\"blue\"])\n",
    "\n",
    "#fig_2d.show()\n",
    "#fig_3d.show()\n",
    "\n",
    "fig_2d.write_image(\"UMAP2D_VegRepro_10_.1.png\")\n",
    "fig_3d.write_image(\"UMAP3D_VegRepro_10_.1.png\")\n",
    "fig_3d.write_html(\"UMAP_VegRepro_10_.1.html\")"
   ]
  }
 ],
 "metadata": {
  "kernelspec": {
   "display_name": "Python 3",
   "language": "python",
   "name": "python3"
  },
  "language_info": {
   "codemirror_mode": {
    "name": "ipython",
    "version": 3
   },
   "file_extension": ".py",
   "mimetype": "text/x-python",
   "name": "python",
   "nbconvert_exporter": "python",
   "pygments_lexer": "ipython3",
   "version": "3.8.8"
  }
 },
 "nbformat": 4,
 "nbformat_minor": 5
}

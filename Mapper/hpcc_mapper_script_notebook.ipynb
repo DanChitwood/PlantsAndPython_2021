{
 "cells": [
  {
   "cell_type": "markdown",
   "metadata": {},
   "source": [
    "### _Arabidopsis_ gene sequence expression mapper graph with centroid lens\n",
    "Jeremy Arsenault\n",
    "Francisco Guerra\n",
    "Nick Johnson\n",
    "Quintero Corrales Christian\n",
    "Anne Steensma\n",
    "Damián Villaseñor Amador\n",
    "\n",
    "**Imort useful packages / modules**"
   ]
  },
  {
   "cell_type": "code",
   "execution_count": 1,
   "metadata": {},
   "outputs": [],
   "source": [
    "# import sys\n",
    "import numpy as np\n",
    "import pandas as pd\n",
    "import matplotlib.pyplot as plt\n",
    "\n",
    "# ML tools\n",
    "from sklearn.cluster import DBSCAN\n",
    "from sklearn.preprocessing import MinMaxScaler\n",
    "from sklearn import ensemble\n",
    "\n",
    "# For output display\n",
    "from IPython.display import IFrame\n",
    "\n",
    "# # If running locally, set current directory as projdir\n",
    "# projdir = '.'"
   ]
  },
  {
   "cell_type": "markdown",
   "metadata": {},
   "source": [
    "**For google collab**"
   ]
  },
  {
   "cell_type": "code",
   "execution_count": 2,
   "metadata": {},
   "outputs": [],
   "source": [
    "# # Only if running in Google Colab..!!\n",
    "# # DO NOT run this cell if running locally - simply comment it out.\n",
    "# from google.colab import drive\n",
    "# drive.mount('/content/gdrive/')\n",
    "\n",
    "# projdir = '/content/gdrive/MyDrive/PlantsAndPython-2021-10-22'\n",
    "# sys.path.append(projdir)"
   ]
  },
  {
   "cell_type": "markdown",
   "metadata": {},
   "source": [
    "**Modules from Sourabh Palande files**"
   ]
  },
  {
   "cell_type": "code",
   "execution_count": 2,
   "metadata": {},
   "outputs": [],
   "source": [
    "# # import helper_functions\n",
    "# from helper_functions import loaddata # for data loading\n",
    "from helper_functions import colorscale_from_matplotlib_cmap # for kmapper color palette\n",
    "\n",
    "# # import Nicolaou et al. 2011 lense function\n",
    "# from lenses import fsga_transform\n",
    "\n",
    "# keppler mapper\n",
    "import kmapper as km"
   ]
  },
  {
   "cell_type": "markdown",
   "metadata": {},
   "source": [
    "**Import database**"
   ]
  },
  {
   "cell_type": "code",
   "execution_count": 3,
   "metadata": {},
   "outputs": [
    {
     "name": "stderr",
     "output_type": "stream",
     "text": [
      "/opt/software/Python/3.6.4-foss-2018a/lib/python3.6/site-packages/IPython/core/interactiveshell.py:3020: DtypeWarning: Columns (4) have mixed types.Specify dtype option on import or set low_memory=False.\n",
      "  interactivity=interactivity, compiler=compiler, result=result)\n"
     ]
    }
   ],
   "source": [
    "df = pd.read_csv(\"37336genes_11317samples_20tissues_tSNE-centroid-lens.csv\")\n",
    "# This database has:\n",
    "# - tissue types labeled according to the hypothesis generation group classification\n",
    "# - euclidean distances of each coordinate t-SNE point to its respective tissue type centroid\n",
    "# - 37,336 genes from the tissue_type_dataframe_v1.csv file in the CleanData HPCC directory\n",
    "# - 11,316 Arabidopsis samples from the tissue_type_dataframe_v1.csv file in the CleanData HPCC directory\n",
    "# This database was made 01/Dec/21\n",
    "\n",
    "# NOTE: It takes about 30 minutes to load using 1 core, 1 node and 16GB in the HPCC"
   ]
  },
  {
   "cell_type": "markdown",
   "metadata": {},
   "source": [
    "**Exploring database**"
   ]
  },
  {
   "cell_type": "code",
   "execution_count": 4,
   "metadata": {},
   "outputs": [
    {
     "name": "stdout",
     "output_type": "stream",
     "text": [
      "The current dataframe name is: Centroid_Lens_Database\n",
      "rows, columns = (11316, 37377)\n",
      "number of elements = 422958132\n"
     ]
    }
   ],
   "source": [
    "df_name = 'Centroid_Lens_Database'\n",
    "print(\"The current dataframe name is:\", df_name)\n",
    "print(\"rows, columns =\", df.shape)\n",
    "print(\"number of elements =\", df.size)"
   ]
  },
  {
   "cell_type": "markdown",
   "metadata": {},
   "source": [
    "**Subsetting gene expression columns**"
   ]
  },
  {
   "cell_type": "code",
   "execution_count": 79,
   "metadata": {},
   "outputs": [
    {
     "data": {
      "text/plain": [
       "37337"
      ]
     },
     "execution_count": 79,
     "metadata": {},
     "output_type": "execute_result"
    }
   ],
   "source": [
    "genes = list(df.columns[11:-30]) # create list with the gene names (first gene is column 11 and last gene is column -30)\n",
    "len(genes) # check how many genes you're using (maximum is 37,336)"
   ]
  },
  {
   "cell_type": "markdown",
   "metadata": {},
   "source": [
    "**Set factors and factors levels**"
   ]
  },
  {
   "cell_type": "code",
   "execution_count": 73,
   "metadata": {},
   "outputs": [],
   "source": [
    "factors = ['Tissue','VegetativeRepro','AboveBelow','Sample Type']\n",
    "levels = ['Root','Root','Below','knl2 mutant line (flowering buds)']\n",
    "\n",
    "filter_by_factor, filter_by_level = ('Tissue', 'Root')\n",
    "# filter_by_factor, filter_by_level = ('VegetativeRepro', 'Root')\n",
    "# filter_by_factor, filter_by_level = ('AboveBelow', 'Below')\n",
    "# filter_by_factor, filter_by_level = ('SampleName', 'knl2 mutant line (flowering buds)')\n",
    "\n",
    "# color_by_factor, color_by_level = ('Tissue', 'Root')\n",
    "# color_by_factor, color_by_level = ('VegetativeRepro', 'Root')\n",
    "color_by_factor, color_by_level = ('AboveBelow', 'Below')"
   ]
  },
  {
   "cell_type": "markdown",
   "metadata": {},
   "source": [
    "**Initialize a KeplerMapper object**"
   ]
  },
  {
   "cell_type": "code",
   "execution_count": 74,
   "metadata": {},
   "outputs": [
    {
     "name": "stdout",
     "output_type": "stream",
     "text": [
      "KeplerMapper(verbose=1)\n"
     ]
    }
   ],
   "source": [
    "# Initialize mapper object\n",
    "mymapper = km.KeplerMapper(verbose=1)\n",
    "\n",
    "# Define Nerve\n",
    "nerve = km.GraphNerve(min_intersection=1)"
   ]
  },
  {
   "cell_type": "markdown",
   "metadata": {},
   "source": [
    "**Define lens**\n",
    "\n",
    "According to Dan's description: _\"take the centroid/median of each tissue cluster, and the lens is the eucledian distance of each sample to its respective tissue center\"_"
   ]
  },
  {
   "cell_type": "code",
   "execution_count": 75,
   "metadata": {},
   "outputs": [],
   "source": [
    "# Centroid lens\n",
    "Clens = df[\"eucl_dist\"] # the euclidean distances are found in the \"eucl_dist\" column\n",
    "lens_type = 'Centroid'\n",
    "#plt.plot(Clens) # plot the lens to see how well represents the data"
   ]
  },
  {
   "cell_type": "markdown",
   "metadata": {},
   "source": [
    "**Define cover:**\n",
    "\n",
    "Overlap must be between 0 and 100. Intervals must be less than 90: try between 25 to 85."
   ]
  },
  {
   "cell_type": "code",
   "execution_count": 76,
   "metadata": {},
   "outputs": [],
   "source": [
    "# Define cover\n",
    "cubes, overlap = (100, 75) # cubes = intervals\n",
    "cover = km.cover.Cover(n_cubes=cubes, perc_overlap=overlap/100.)"
   ]
  },
  {
   "cell_type": "markdown",
   "metadata": {},
   "source": [
    "**Define clustering algorithm:**\n",
    "\n",
    "DBSCAN with default parameters. Metric: correlation distance (1 - correlation) between a pair of gene expression profiles."
   ]
  },
  {
   "cell_type": "code",
   "execution_count": 77,
   "metadata": {},
   "outputs": [],
   "source": [
    "# Define clustering algorithm\n",
    "clust_metric = 'correlation'\n",
    "clusterer = DBSCAN(metric=clust_metric)"
   ]
  },
  {
   "cell_type": "markdown",
   "metadata": {},
   "source": [
    "**Construct the mapper graph:**\n",
    "\n",
    "Keep an eye on the number of hypercubes, nodes and edges reported by the algorithm. You can change the graph size by changing the cover parameters."
   ]
  },
  {
   "cell_type": "code",
   "execution_count": 78,
   "metadata": {},
   "outputs": [
    {
     "name": "stdout",
     "output_type": "stream",
     "text": [
      "Mapping on data shaped (11316, 20000) using lens shaped (11316,)\n",
      "\n",
      "Creating 100 hypercubes.\n",
      "Merged 6 duplicate nodes.\n",
      "\n",
      "Number of nodes before merger: 116; after merger: 110\n",
      "\n",
      "\n",
      "Created 312 edges and 110 nodes in 0:05:44.033076.\n"
     ]
    }
   ],
   "source": [
    "# Create mapper 'graph' with nodes, edges and meta-information.\n",
    "graph = mymapper.map(lens=Clens,\n",
    "                     X=df[genes],\n",
    "                     clusterer=clusterer,\n",
    "                     cover=cover,\n",
    "                     nerve=nerve,\n",
    "                     precomputed=False,\n",
    "                     remove_duplicate_nodes=True)"
   ]
  },
  {
   "cell_type": "markdown",
   "metadata": {},
   "source": [
    "**Kmapper coloring**"
   ]
  },
  {
   "cell_type": "code",
   "execution_count": 80,
   "metadata": {},
   "outputs": [],
   "source": [
    "# Color nodes by specified color_by_factor, color_by_level\n",
    "\n",
    "df[color_by_factor] = df[color_by_factor].astype('category')\n",
    "color_vec = np.asarray([0 if(val == color_by_level) else 1 for val in df[color_by_factor]])\n",
    "cscale = colorscale_from_matplotlib_cmap(plt.get_cmap('coolwarm'))"
   ]
  },
  {
   "cell_type": "markdown",
   "metadata": {},
   "source": [
    "**Set coloring levels as kmapper tooltips**"
   ]
  },
  {
   "cell_type": "code",
   "execution_count": 81,
   "metadata": {},
   "outputs": [],
   "source": [
    "# show color_by_factor levels in tooltip\n",
    "\n",
    "temp = ['({}, {})'.format(str(p[0]), str(p[1])) for p in zip(df[color_by_factor], df[filter_by_factor])]\n",
    "df['tooltips'] = temp"
   ]
  },
  {
   "cell_type": "markdown",
   "metadata": {},
   "source": [
    "**Create and save kmapper graph as html**"
   ]
  },
  {
   "cell_type": "code",
   "execution_count": null,
   "metadata": {},
   "outputs": [],
   "source": [
    "# Specify file to save html output\n",
    "fname = 'LensType_{}_ColorBy_{}_Tips_{}_Data_{}_Cubes_{}_Overlap_{}_Genes_{}.html'.format(lens_type,\n",
    "                                                              color_by_factor,\n",
    "                                                              filter_by_factor,\n",
    "                                                              df_name,\n",
    "                                                              cubes,\n",
    "                                                              overlap,\n",
    "                                                              len(genes))\n",
    "\n",
    "figtitle = 'Lens type: {}, Tips {}, Color by {} ({}), Database: {}, intervals {}, overlap {}, genes {}'.format(lens_type,\n",
    "                                                                                                              filter_by_factor,\n",
    "#                                                                                                               filter_by_level,\n",
    "                                                                                                              color_by_factor,\n",
    "                                                                                                              color_by_level,\n",
    "                                                                                                              df_name,\n",
    "                                                                                                              cubes, \n",
    "                                                                                                              overlap/100.0,\n",
    "                                                                                                              len(genes))\n",
    "\n",
    "fpath = '/mnt/home/f0103237/SLURM_mapper_outputs/' + fname # is this synthax correct if I run it in the HPCC?\n",
    "\n",
    "# Create visualization and save to specified file\n",
    "_ = mymapper.visualize(graph,\n",
    "                       path_html=fpath,\n",
    "                       title=figtitle,\n",
    "                       color_values=color_vec,\n",
    "                       color_function_name=color_by_factor,\n",
    "                       colorscale=cscale,\n",
    "                       custom_tooltips=df['tooltips'])\n",
    "\n",
    "# Load the html output file\n",
    "IFrame(src=fpath, width=1000, height=800)"
   ]
  }
 ],
 "metadata": {
  "kernelspec": {
   "display_name": "Python 3",
   "language": "python",
   "name": "python3"
  },
  "language_info": {
   "codemirror_mode": {
    "name": "ipython",
    "version": 3
   },
   "file_extension": ".py",
   "mimetype": "text/x-python",
   "name": "python",
   "nbconvert_exporter": "python",
   "pygments_lexer": "ipython3",
   "version": "3.6.4"
  }
 },
 "nbformat": 4,
 "nbformat_minor": 2
}
